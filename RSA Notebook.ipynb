{
 "cells": [
  {
   "cell_type": "markdown",
   "metadata": {},
   "source": [
    "# The RSA Cryptosystem\n",
    "\n",
    "In this Python notebook, we provide tools to implement the RSA cryptosystem.  This cryptosystem is one of the most popular for securely sending a short message.  In practice, this is used in the initial \"handshake\" of the TLS (Transport Layer Security) protocol.  See https://en.wikipedia.org/wiki/Transport_Layer_Security#Key_exchange_or_key_agreement for some details.  You have almost certainly used the TLS protocol, and thus RSA, when visiting secure websites, chatting, etc.  For example, check your email -- do you see a padlock icon next to the URL to the left of https?  Click on it... you might see something about TLS."
   ]
  },
  {
   "cell_type": "markdown",
   "metadata": {},
   "source": [
    "We begin by importing the random package for Python.  Security depends on choosing large *random* numbers.  Significant breaches of security have occurred when parties have not used good randomization methods.  "
   ]
  },
  {
   "cell_type": "code",
   "execution_count": null,
   "metadata": {
    "collapsed": true
   },
   "outputs": [],
   "source": [
    "from random import *"
   ]
  },
  {
   "cell_type": "markdown",
   "metadata": {},
   "source": [
    "Now we provide a function to test whether a number is prime, using the Miller-Rabin algorithm.  We enhance it a bit by checking for small factors first.  Using 50 witnesses is typically sufficient to be sure of primality."
   ]
  },
  {
   "cell_type": "code",
   "execution_count": null,
   "metadata": {
    "collapsed": false
   },
   "outputs": [],
   "source": [
    "small_primes = [2, 3, 5, 7, 11, 13, 17, 19, 23, 29, 31] # A list of small primes.\n",
    "\n",
    "def is_prime(n, number_witnesses = 50):\n",
    "    '''\n",
    "    This function carries out the Miller-Rabin test\n",
    "    to determine whether the input number n is prime.\n",
    "    The test is probabilistic, and the probability of a \n",
    "    false-positive is less than 1 out of 4^number_witnesses.\n",
    "    At the default 50 witnesses, the probability of a \n",
    "    false positive is less than 10^(-30).\n",
    "    The code below is adapted from Gareth Rees, at\n",
    "    http://stackoverflow.com/questions/14613304/rabin-miller-strong-pseudoprime-test-implementation-wont-work\n",
    "    '''\n",
    "    if n < 2: \n",
    "        return False  # numbers smaller than 2 are not prime.  Don't waste effort.\n",
    "    if n in small_primes:\n",
    "        return True\n",
    "    for p in small_primes: # It's worth the time to check for small prime factors first.\n",
    "        if n % p == 0: \n",
    "            return False\n",
    "    if n >= 37*37:  # The previous tests will work for numbers up to 37*37\n",
    "        # Now we carry out the Miller-Rabin test.\n",
    "        # Step one:  Decomposing n-1 as a power of 2 times an odd.\n",
    "        e = 0\n",
    "        m = n - 1\n",
    "        while m % 2 == 0: #As long as m is even.\n",
    "            e += 1\n",
    "            m = m//2 # Integer division, to be safe in Python 2.7 or 3.x.\n",
    "        # The result of the above process is that\n",
    "        # n-1 = 2^e * m, and m is odd.\n",
    "        \n",
    "        for t in range(number_witnesses): # Repeat number_witnesses times.\n",
    "            # Step two: computing witness^m mod n\n",
    "            witness = randint(2, n - 1) # Choose a random witness each time.\n",
    "            s = pow(witness,m,n) # Compute witness^m power to start.\n",
    "            # Step three:  successive squaring, to look for ROO violations.\n",
    "            k = 0\n",
    "            while (k < e):\n",
    "                ss = (s*s)%n # square the number.\n",
    "                if (ss == 1) and (s != 1) and (s != n-1):  # the expression != means \"is not equal to\" in Python.\n",
    "                    return False # A ROO violation implies n is not prime.\n",
    "                s = ss\n",
    "                k += 1\n",
    "            # Step four:  if no ROO violations, check FLT.\n",
    "            if s != 1:  \n",
    "                return False # A FLT violation implies n is not prime.\n",
    "        \n",
    "    return True"
   ]
  },
  {
   "cell_type": "markdown",
   "metadata": {},
   "source": [
    "Now we test out a few examples."
   ]
  },
  {
   "cell_type": "code",
   "execution_count": null,
   "metadata": {
    "collapsed": false
   },
   "outputs": [],
   "source": [
    "is_prime(10)"
   ]
  },
  {
   "cell_type": "code",
   "execution_count": null,
   "metadata": {
    "collapsed": false
   },
   "outputs": [],
   "source": [
    "is_prime(17)"
   ]
  },
  {
   "cell_type": "code",
   "execution_count": null,
   "metadata": {
    "collapsed": false
   },
   "outputs": [],
   "source": [
    "is_prime(100000000000000123918739183)"
   ]
  },
  {
   "cell_type": "code",
   "execution_count": null,
   "metadata": {
    "collapsed": false
   },
   "outputs": [],
   "source": [
    "is_prime(1000000000000066600000000000001) # Belphegor's prime.  See https://en.wikipedia.org/wiki/Belphegor%27s_prime"
   ]
  },
  {
   "cell_type": "code",
   "execution_count": null,
   "metadata": {
    "collapsed": false
   },
   "outputs": [],
   "source": [
    "is_prime(2**127 - 1) # The largest known prime, from 1876 - 1950"
   ]
  },
  {
   "cell_type": "code",
   "execution_count": null,
   "metadata": {
    "collapsed": false
   },
   "outputs": [],
   "source": [
    "is_prime(2**67 - 1) # A big composite number"
   ]
  },
  {
   "cell_type": "code",
   "execution_count": null,
   "metadata": {
    "collapsed": false
   },
   "outputs": [],
   "source": [
    "193707721 * 761838257287 # It's pretty hard to find this prime factorization!!"
   ]
  },
  {
   "cell_type": "code",
   "execution_count": null,
   "metadata": {
    "collapsed": false
   },
   "outputs": [],
   "source": [
    "2**67 - 1 # But it works.  Cole found the above factorization in 1903!  (No computers!)"
   ]
  },
  {
   "cell_type": "code",
   "execution_count": null,
   "metadata": {
    "collapsed": false
   },
   "outputs": [],
   "source": [
    "is_prime(2**521 - 1) # The first record prime found by computer.  Found by Turing in 1952."
   ]
  },
  {
   "cell_type": "markdown",
   "metadata": {},
   "source": [
    "The following function cooks up a random prime number, with a desired number of binary digits (bits)."
   ]
  },
  {
   "cell_type": "code",
   "execution_count": null,
   "metadata": {
    "collapsed": false
   },
   "outputs": [],
   "source": [
    "def make_prime(b):\n",
    "    '''\n",
    "    This function creates a random prime number\n",
    "    whose binary expansion has b bits.'''\n",
    "    if b > 3000:\n",
    "        print \"I don't want to make such a big prime.\"\n",
    "        return None\n",
    "    else:\n",
    "        max_attempts = 10*b # This is usually enough tries.\n",
    "        t = 0\n",
    "        while t < max_attempts:\n",
    "            t += 1\n",
    "            wanna_be_prime = getrandbits(b)\n",
    "            if is_prime(wanna_be_prime):\n",
    "                return wanna_be_prime\n",
    "    return None # Return None if no prime was found within max_attempts tries.\n",
    "        "
   ]
  },
  {
   "cell_type": "markdown",
   "metadata": {},
   "source": [
    "Let's test it out!  Don't try to make primes more than 2000 bits.  It might get slow."
   ]
  },
  {
   "cell_type": "code",
   "execution_count": null,
   "metadata": {
    "collapsed": false
   },
   "outputs": [],
   "source": [
    "make_prime(500) # Make a random five-hundred-bit prime.\n",
    "    "
   ]
  },
  {
   "cell_type": "markdown",
   "metadata": {},
   "source": [
    "Back to basics.  This is the Euclidean algorithm, applied to find the GCD of two numbers."
   ]
  },
  {
   "cell_type": "code",
   "execution_count": null,
   "metadata": {
    "collapsed": true
   },
   "outputs": [],
   "source": [
    "def gcd(a,b):\n",
    "    if a == 0:\n",
    "        return b\n",
    "    elif b == 0:\n",
    "        return a\n",
    "    else:\n",
    "        divisor = a\n",
    "        dividend = b\n",
    "        while dividend != 0:\n",
    "            remainder = divisor%dividend\n",
    "            divisor, dividend = dividend, remainder\n",
    "        return divisor"
   ]
  },
  {
   "cell_type": "code",
   "execution_count": null,
   "metadata": {
    "collapsed": false
   },
   "outputs": [],
   "source": [
    "gcd(91,221)"
   ]
  },
  {
   "cell_type": "markdown",
   "metadata": {},
   "source": [
    "Recall that x is called the multiplicative inverse of a, mod m, if ax is congruent to 1 mod m.  Equivalently, if ax - 1 = my for some integer y.  Equivalently, if ax - my = 1.\n",
    "\n",
    "Finding a multiplicative inverse is thus equivalent to solving a linear Diophantine equation.  The Euclidean algorithm can be used to solve such equations.  The code below uses the \"extended Euclidean algorithm\" to quickly find modular inverses.  It's a bit hard to follow -- don't worry about it, unless you have extra time to figure it out."
   ]
  },
  {
   "cell_type": "code",
   "execution_count": null,
   "metadata": {
    "collapsed": false
   },
   "outputs": [],
   "source": [
    "# The following code is from \n",
    "# https://en.wikibooks.org/wiki/Algorithm_Implementation/Mathematics/Extended_Euclidean_algorithm\n",
    "\n",
    "def egcd(a, b):\n",
    "    if a == 0:\n",
    "        return (b, 0, 1)\n",
    "    else:\n",
    "        g, y, x = egcd(b % a, a)\n",
    "        return (g, x - (b // a) * y, y)\n",
    "\n",
    "def modinv(a, m):\n",
    "    g, x, y = egcd(a%m, m)\n",
    "    if g != 1:\n",
    "        raise Exception('modular inverse does not exist')\n",
    "    else:\n",
    "        return x % m"
   ]
  },
  {
   "cell_type": "markdown",
   "metadata": {},
   "source": [
    "Let's find the modular inverse of 3 modulo 40.  It should be 27, since 3 * 27 = 81, which is congruent to 1 mod 40."
   ]
  },
  {
   "cell_type": "code",
   "execution_count": null,
   "metadata": {
    "collapsed": false
   },
   "outputs": [],
   "source": [
    "modinv(3,40)"
   ]
  },
  {
   "cell_type": "markdown",
   "metadata": {},
   "source": [
    "## The cipher.\n",
    "To send text messages, we need to translate strings of text into numbers, and be able to translate those numbers back into text.  The following functions carry this out in a simple fashion.  Don't worry about how it works... but if you're interested, the algorithm converts each character to a number between 0 and 255 using ASCII, and then pastes the numbers together byte-by-byte (with an initial 1).  Decoding breaks up the number into a sequence of bytes then uses ASCII to convert these to bytes to a string."
   ]
  },
  {
   "cell_type": "code",
   "execution_count": null,
   "metadata": {
    "collapsed": false
   },
   "outputs": [],
   "source": [
    "def str_to_num(s): # Converts a string to a number.\n",
    "    bitlist = [1]\n",
    "    for c in s:\n",
    "        bits = bin(ord(c))[2:]\n",
    "        bits = '00000000'[len(bits):] + bits\n",
    "        bitlist.extend([int(b) for b in bits])\n",
    "    out = 0\n",
    "    for bit in bitlist:\n",
    "        out = (out << 1) | bit\n",
    "    return out\n",
    "\n",
    "def num_to_str(n):  # Converts a number back to a string.\n",
    "    bitlist = [1 if digit=='1' else 0 for digit in bin(n)[3:]]\n",
    "    chars = []\n",
    "    for b in range(len(bitlist) // 8):\n",
    "        byte = bitlist[b*8:(b+1)*8]\n",
    "        out = 0\n",
    "        for bit in byte:\n",
    "            out = (out << 1) | bit\n",
    "        chars.append(chr(out))\n",
    "    return ''.join(chars)"
   ]
  },
  {
   "cell_type": "code",
   "execution_count": null,
   "metadata": {
    "collapsed": false
   },
   "outputs": [],
   "source": [
    "coded = str_to_num(\"Hello there!\")\n",
    "print coded # Here's the coded message.\n",
    "decoded = num_to_str(coded)\n",
    "print decoded # I hope it says \"Hello there!\""
   ]
  },
  {
   "cell_type": "markdown",
   "metadata": {},
   "source": [
    "Now we're ready to carry out the RSA cryptosystem.  The code below can be used by Alice and Bob.  Some team members (with one computer) should play Alice and other team members (with another computer) should play Bob.  In this scenario, Bob wants to send an encrypted message to Alice.  Here are the steps.\n",
    "\n",
    "Bob should wait for Alice and then start at Step 2."
   ]
  },
  {
   "cell_type": "markdown",
   "metadata": {},
   "source": [
    "# Step 1:  Alice creates her private key, and announces her public key."
   ]
  },
  {
   "cell_type": "markdown",
   "metadata": {},
   "source": [
    "Alice should create two large (e.g. 512 bit) prime numbers, called p and q.  She keeps these private.  Don't tell anyone (not even Bob) these prime numbers!\n",
    "\n",
    "Alice:  complete the commands below to create the two prime numbers."
   ]
  },
  {
   "cell_type": "code",
   "execution_count": null,
   "metadata": {
    "collapsed": false
   },
   "outputs": [],
   "source": [
    "p = make_prime(512)\n",
    "q = make_prime(512)"
   ]
  },
  {
   "cell_type": "markdown",
   "metadata": {},
   "source": [
    "Now Alice computes her public key.  She declares N to be the product of p and q.  She uses the exponent e = 65535 for traditional reasons.  (It's not so important).  She tells the public (including Bob) the numbers N and e.\n",
    "\n",
    "Alice:  run the following commands and communicate N and e to Bob.  You can email them to Bob if you want.  "
   ]
  },
  {
   "cell_type": "code",
   "execution_count": null,
   "metadata": {
    "collapsed": false
   },
   "outputs": [],
   "source": [
    "N = p*q\n",
    "e = 65535\n",
    "print N\n",
    "print e"
   ]
  },
  {
   "cell_type": "markdown",
   "metadata": {},
   "source": [
    "Alice:  Now wait for Bob's secret message!"
   ]
  },
  {
   "cell_type": "markdown",
   "metadata": {},
   "source": [
    "## Step 2:  Bob receives the public key, decides on his message, encrypts it using the public key, and sends the result back to Alice."
   ]
  },
  {
   "cell_type": "markdown",
   "metadata": {},
   "source": [
    "When Bob receives the public key, enter the long number as N, and the exponent (probably 65535) as e below."
   ]
  },
  {
   "cell_type": "code",
   "execution_count": null,
   "metadata": {
    "collapsed": true
   },
   "outputs": [],
   "source": [
    "N = \n",
    "\n",
    "e = "
   ]
  },
  {
   "cell_type": "markdown",
   "metadata": {},
   "source": [
    "Bob:  Choose a short message and convert it to a number with the str_to_num() command.  Change \"Hello!\" to your secret message, in the command below.  Each letter of the message requires 8 bits.  The number of bits of your message must be less than the number of bits in N.  So if Alice uses p,q with 512 bits, then you can use up to 128 characters in your message.\n",
    "\n",
    "Then compute the ciphertext c = m^e modulo N, where (N,e) is the public key you receive from Alice."
   ]
  },
  {
   "cell_type": "code",
   "execution_count": null,
   "metadata": {
    "collapsed": false
   },
   "outputs": [],
   "source": [
    "m = str_to_num(\"Hello!\")\n",
    "c = pow(m,e,N)\n",
    "print c"
   ]
  },
  {
   "cell_type": "markdown",
   "metadata": {},
   "source": [
    "Bob:  send your ciphertext c to Alice.  You might use e-mail to do this.  This c is your encrypted message."
   ]
  },
  {
   "cell_type": "markdown",
   "metadata": {},
   "source": [
    "## Step 3:  Alice decrypts the message.\n",
    "\n",
    "Alice:  you should have received ciphertext (a big number) from Bob.  Now it's time to decode the message!\n",
    "\n",
    "As a first step (you can do this while waiting for Bob), compute the multiplicative inverse of e, modulo the totient of N.  Since you know N = pq, you know phi(N) = phi(p) phi(q) = (p-1) (q-1)"
   ]
  },
  {
   "cell_type": "code",
   "execution_count": null,
   "metadata": {
    "collapsed": false
   },
   "outputs": [],
   "source": [
    "totient = (p-1)*(q-1) # Thankfully, you know p and q.  Nobody else does, so nobody else can decode the message!\n",
    "d = modinv(e,totient) # The modular inverse of e, modulo the totient."
   ]
  },
  {
   "cell_type": "markdown",
   "metadata": {},
   "source": [
    "Now enter the encrypted message that Bob sends you."
   ]
  },
  {
   "cell_type": "code",
   "execution_count": null,
   "metadata": {
    "collapsed": true
   },
   "outputs": [],
   "source": [
    "c = "
   ]
  },
  {
   "cell_type": "markdown",
   "metadata": {},
   "source": [
    "Now it's time to decode the message!  pow(c,d,N) computes the decrypted number, and num_to_str turns it back into a string."
   ]
  },
  {
   "cell_type": "code",
   "execution_count": null,
   "metadata": {
    "collapsed": false
   },
   "outputs": [],
   "source": [
    "num_to_str(pow(c,d,N))"
   ]
  },
  {
   "cell_type": "markdown",
   "metadata": {},
   "source": [
    "Did you get Bob's message?  \n",
    "\n",
    "Try switching roles, and sending messages until you understand the whole process."
   ]
  },
  {
   "cell_type": "code",
   "execution_count": null,
   "metadata": {
    "collapsed": true
   },
   "outputs": [],
   "source": []
  }
 ],
 "metadata": {
  "kernelspec": {
   "display_name": "Python 2",
   "language": "python",
   "name": "python2"
  },
  "language_info": {
   "codemirror_mode": {
    "name": "ipython",
    "version": 2
   },
   "file_extension": ".py",
   "mimetype": "text/x-python",
   "name": "python",
   "nbconvert_exporter": "python",
   "pygments_lexer": "ipython2",
   "version": "2.7.11"
  }
 },
 "nbformat": 4,
 "nbformat_minor": 0
}
