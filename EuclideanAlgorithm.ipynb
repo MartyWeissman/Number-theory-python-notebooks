{
 "cells": [
  {
   "cell_type": "code",
   "execution_count": 1,
   "metadata": {
    "collapsed": true
   },
   "outputs": [],
   "source": [
    "def Euc(a,b):\n",
    "    while b != 0:\n",
    "        q = a/b\n",
    "        r = a%b\n",
    "        print \"%d = %d (%d) + %d\"%(a,q,b,r)\n",
    "        a = b\n",
    "        b = r\n",
    "    return a"
   ]
  },
  {
   "cell_type": "code",
   "execution_count": 2,
   "metadata": {
    "collapsed": false
   },
   "outputs": [
    {
     "name": "stdout",
     "output_type": "stream",
     "text": [
      "133 = 1 (85) + 48\n",
      "85 = 1 (48) + 37\n",
      "48 = 1 (37) + 11\n",
      "37 = 3 (11) + 4\n",
      "11 = 2 (4) + 3\n",
      "4 = 1 (3) + 1\n",
      "3 = 3 (1) + 0\n"
     ]
    },
    {
     "data": {
      "text/plain": [
       "1"
      ]
     },
     "execution_count": 2,
     "metadata": {},
     "output_type": "execute_result"
    }
   ],
   "source": [
    "Euc(133,85)"
   ]
  },
  {
   "cell_type": "code",
   "execution_count": 3,
   "metadata": {
    "collapsed": false
   },
   "outputs": [
    {
     "name": "stdout",
     "output_type": "stream",
     "text": [
      "12398719823 = 0 (1293871982371) + 12398719823\n",
      "1293871982371 = 104 (12398719823) + 4405120779\n",
      "12398719823 = 2 (4405120779) + 3588478265\n",
      "4405120779 = 1 (3588478265) + 816642514\n",
      "3588478265 = 4 (816642514) + 321908209\n",
      "816642514 = 2 (321908209) + 172826096\n",
      "321908209 = 1 (172826096) + 149082113\n",
      "172826096 = 1 (149082113) + 23743983\n",
      "149082113 = 6 (23743983) + 6618215\n",
      "23743983 = 3 (6618215) + 3889338\n",
      "6618215 = 1 (3889338) + 2728877\n",
      "3889338 = 1 (2728877) + 1160461\n",
      "2728877 = 2 (1160461) + 407955\n",
      "1160461 = 2 (407955) + 344551\n",
      "407955 = 1 (344551) + 63404\n",
      "344551 = 5 (63404) + 27531\n",
      "63404 = 2 (27531) + 8342\n",
      "27531 = 3 (8342) + 2505\n",
      "8342 = 3 (2505) + 827\n",
      "2505 = 3 (827) + 24\n",
      "827 = 34 (24) + 11\n",
      "24 = 2 (11) + 2\n",
      "11 = 5 (2) + 1\n",
      "2 = 2 (1) + 0\n"
     ]
    },
    {
     "data": {
      "text/plain": [
       "1"
      ]
     },
     "execution_count": 3,
     "metadata": {},
     "output_type": "execute_result"
    }
   ],
   "source": [
    "Euc(12398719823,1293871982371)"
   ]
  },
  {
   "cell_type": "code",
   "execution_count": null,
   "metadata": {
    "collapsed": true
   },
   "outputs": [],
   "source": []
  }
 ],
 "metadata": {
  "anaconda-cloud": {},
  "kernelspec": {
   "display_name": "Python 2",
   "language": "python",
   "name": "python2"
  },
  "language_info": {
   "codemirror_mode": {
    "name": "ipython",
    "version": 2
   },
   "file_extension": ".py",
   "mimetype": "text/x-python",
   "name": "python",
   "nbconvert_exporter": "python",
   "pygments_lexer": "ipython2",
   "version": "2.7.11"
  }
 },
 "nbformat": 4,
 "nbformat_minor": 0
}
