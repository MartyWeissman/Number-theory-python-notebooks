{
 "cells": [
  {
   "cell_type": "markdown",
   "metadata": {},
   "source": [
    "## Primality-testing and modular arithmetic\n",
    "\n",
    "This Jupyter notebook provides a toolbox for exploring the Fermat-Euler theorem, primality-testing, and more.\n",
    "\n",
    "Python is very convenient for modular arithmetic.  Try the following commands.\n",
    "\n",
    "To run a command, click in the cell to make sure it's active.  Then press shift-enter to run the command(s) in the cell.  Discuss the results with others in the class."
   ]
  },
  {
   "cell_type": "code",
   "execution_count": null,
   "metadata": {
    "collapsed": false
   },
   "outputs": [],
   "source": [
    "23 % 5  # What do you think the % operator does?"
   ]
  },
  {
   "cell_type": "code",
   "execution_count": null,
   "metadata": {
    "collapsed": false
   },
   "outputs": [],
   "source": [
    "divmod(23,5) # Sometimes you care about quotient and remainder..."
   ]
  },
  {
   "cell_type": "code",
   "execution_count": null,
   "metadata": {
    "collapsed": false
   },
   "outputs": [],
   "source": [
    "pow(2,5) # Python-power!  What does it do?"
   ]
  },
  {
   "cell_type": "code",
   "execution_count": null,
   "metadata": {
    "collapsed": false
   },
   "outputs": [],
   "source": [
    "pow(2,90) % 91 # What do you get?"
   ]
  },
  {
   "cell_type": "markdown",
   "metadata": {},
   "source": [
    "The output should be \"64L\".  The letter L stands for \"Long\".  It's there because Python had to switch into long-integer mode along the way, to deal with the large number pow(2,90).  \n",
    "\n",
    "Much faster, for people and computers, is to keep the computations in the modular world throughout.  So try the following."
   ]
  },
  {
   "cell_type": "code",
   "execution_count": null,
   "metadata": {
    "collapsed": false
   },
   "outputs": [],
   "source": [
    "pow(2,90,91)"
   ]
  },
  {
   "cell_type": "markdown",
   "metadata": {},
   "source": [
    "Notice that \"L\" is no longer there.  Along the way, Python kept the computations \"mod 91\", so it didn't have to work with numbers bigger than 91.  No long integers needed!\n",
    "\n",
    "Pow commands are very fast, in modular arithmetic.  Try something like this, if you dare.  Just don't forget all three inputs to the pow command."
   ]
  },
  {
   "cell_type": "code",
   "execution_count": null,
   "metadata": {
    "collapsed": false
   },
   "outputs": [],
   "source": [
    "pow(2347883845,23428923749827398472938742,2394872934872983729837423429348472)"
   ]
  },
  {
   "cell_type": "markdown",
   "metadata": {},
   "source": [
    "Pow can be used for primality testing.  Compute the following.  What do these computations tell you about 31, 51, 91?  "
   ]
  },
  {
   "cell_type": "code",
   "execution_count": null,
   "metadata": {
    "collapsed": false,
    "scrolled": true
   },
   "outputs": [],
   "source": [
    "pow(3,30,31)"
   ]
  },
  {
   "cell_type": "code",
   "execution_count": null,
   "metadata": {
    "collapsed": false
   },
   "outputs": [],
   "source": [
    "pow(7,50,51)"
   ]
  },
  {
   "cell_type": "code",
   "execution_count": null,
   "metadata": {
    "collapsed": false
   },
   "outputs": [],
   "source": [
    "pow(3,90,91)"
   ]
  },
  {
   "cell_type": "markdown",
   "metadata": {},
   "source": [
    "We say that a number b witnesses the non-primality of a number n, if pow(b,n-1,n) does not equal 1.  Indeed, this means that n cannot be prime, by Fermat's Little Theorem.  We can turn this into a Python function with the code below.  Make sure to copy it carefully, using all indentation as below.\n",
    "\n",
    "Press shift-enter as usual to run the code.  Nothing will happen on the screen, but you have just taught the computer a new trick, called \"witness\".  "
   ]
  },
  {
   "cell_type": "code",
   "execution_count": null,
   "metadata": {
    "collapsed": true
   },
   "outputs": [],
   "source": [
    "def witness(b,n):\n",
    "    # A function which outputs False if n cannot be prime.\n",
    "    if pow(b,n-1,n) == 1:\n",
    "        return True\n",
    "    else:\n",
    "        return False"
   ]
  },
  {
   "cell_type": "markdown",
   "metadata": {},
   "source": [
    "Now we can use our function, instead of pow commands."
   ]
  },
  {
   "cell_type": "code",
   "execution_count": null,
   "metadata": {
    "collapsed": false
   },
   "outputs": [],
   "source": [
    "witness(2,91)"
   ]
  },
  {
   "cell_type": "code",
   "execution_count": null,
   "metadata": {
    "collapsed": false
   },
   "outputs": [],
   "source": [
    "witness(3,91)"
   ]
  },
  {
   "cell_type": "markdown",
   "metadata": {},
   "source": [
    "So 2 witnesses the non-primality of 91, but 3 does not.  We might say that 91 \"looks prime\" to the witness 3.  \n",
    "\n",
    "Some numbers -- the Carmichael numbers -- look prime to a lot of witnesses.  An example is 41041."
   ]
  },
  {
   "cell_type": "code",
   "execution_count": null,
   "metadata": {
    "collapsed": false
   },
   "outputs": [],
   "source": [
    "witness(2,41041)"
   ]
  },
  {
   "cell_type": "code",
   "execution_count": null,
   "metadata": {
    "collapsed": false
   },
   "outputs": [],
   "source": [
    "witness(3,41041)"
   ]
  },
  {
   "cell_type": "code",
   "execution_count": null,
   "metadata": {
    "collapsed": false
   },
   "outputs": [],
   "source": [
    "witness(4,41041)"
   ]
  },
  {
   "cell_type": "code",
   "execution_count": null,
   "metadata": {
    "collapsed": false
   },
   "outputs": [],
   "source": [
    "witness(5,41041)"
   ]
  },
  {
   "cell_type": "code",
   "execution_count": null,
   "metadata": {
    "collapsed": false
   },
   "outputs": [],
   "source": [
    "witness(6,41041)"
   ]
  },
  {
   "cell_type": "markdown",
   "metadata": {},
   "source": [
    "To improve this primality test, we make our witnesses more perceptive using an idea of Miller and Rabin.  To use the Miller-Rabin test with base b and test-number n, compute pow(b,k,n) as k ranges over the set (n-1), (n-1)/2, (n-1)/4, etc., as long as those numbers are integers."
   ]
  },
  {
   "cell_type": "code",
   "execution_count": null,
   "metadata": {
    "collapsed": false
   },
   "outputs": [],
   "source": [
    "pow(2,41040,41041)"
   ]
  },
  {
   "cell_type": "code",
   "execution_count": null,
   "metadata": {
    "collapsed": false
   },
   "outputs": [],
   "source": [
    "pow(2,20520, 41041)"
   ]
  },
  {
   "cell_type": "code",
   "execution_count": null,
   "metadata": {
    "collapsed": false
   },
   "outputs": [],
   "source": [
    "pow(2,10260,41041)"
   ]
  },
  {
   "cell_type": "code",
   "execution_count": null,
   "metadata": {
    "collapsed": false
   },
   "outputs": [],
   "source": [
    "pow(2,5130,41041)"
   ]
  },
  {
   "cell_type": "markdown",
   "metadata": {},
   "source": [
    "Well, that's odd!  If x = pow(2,5130,41041), then the square of x equals pow(2,10260,41041).  So 27182 squared equals 1.  This violates the ROO property of primes:\n",
    "\n",
    "(ROO)  If p is prime, and x^2 is congruent to 1 mod p, then x is congruent to 1 or -1 mod p.\n",
    "\n",
    "Hence 41041 is not prime!\n",
    "\n",
    "If you don't trust this, let's do a *brute force* check.  Can you see how this works?"
   ]
  },
  {
   "cell_type": "code",
   "execution_count": null,
   "metadata": {
    "collapsed": true
   },
   "outputs": [],
   "source": [
    "from math import sqrt"
   ]
  },
  {
   "cell_type": "code",
   "execution_count": null,
   "metadata": {
    "collapsed": false
   },
   "outputs": [],
   "source": [
    "for j in range(2,int(sqrt(41041))):\n",
    "    if 41041%j == 0:\n",
    "        print j,\"is a divisor of 41041.\""
   ]
  },
  {
   "cell_type": "markdown",
   "metadata": {},
   "source": [
    "So we can find factors of 41041.\n",
    "Let's prove that 561 is not prime, using the ROO property."
   ]
  },
  {
   "cell_type": "code",
   "execution_count": null,
   "metadata": {
    "collapsed": false
   },
   "outputs": [],
   "source": [
    "pow(2,560,561) # 561 passes the basic witness test, using 2 as a base."
   ]
  },
  {
   "cell_type": "code",
   "execution_count": null,
   "metadata": {
    "collapsed": false
   },
   "outputs": [],
   "source": [
    "pow(2,280,561) # Divide the exponent by two at each step."
   ]
  },
  {
   "cell_type": "code",
   "execution_count": null,
   "metadata": {
    "collapsed": false
   },
   "outputs": [],
   "source": [
    "pow(2,140,561) # Uh oh.  prime-fail!  What does this tell you about 561?  Why?"
   ]
  },
  {
   "cell_type": "markdown",
   "metadata": {},
   "source": [
    "The following function will carry this process out automatically.  Using strong_witness(b,n) will output False if the base b detects the nonprimality of n."
   ]
  },
  {
   "cell_type": "code",
   "execution_count": null,
   "metadata": {
    "collapsed": false
   },
   "outputs": [],
   "source": [
    "def strong_witness(b,n):\n",
    "    looks_prime = True # n looks prime until it's proven not prime.\n",
    "\n",
    "    # Step one:  factoring out a power of 2 from n-1.\n",
    "    e = 0\n",
    "    m = n-1  \n",
    "    while m%2 == 0:  # As long as m is even. \n",
    "        e += 1\n",
    "        m = m//2 # Integer division, to be safe in Python 2.7 or 3.x.\n",
    "    # The result of the above process is that\n",
    "    # n-1 = 2^e * m, and m is odd.\n",
    "    \n",
    "    # Step two: computing b^m mod n\n",
    "    s = pow(b,m,n)\n",
    "\n",
    "    # Step three:  successive squaring, to look for ROO violations.\n",
    "    k = 0\n",
    "    while (k < e) and looks_prime:\n",
    "        ss = (s*s)%n\n",
    "        if (ss == 1) and (s != 1) and (s != n-1):\n",
    "            looks_prime = False\n",
    "            # Note:  add parentheses to all print commands, if you're using Python 3.x instead of 2.7.\n",
    "            # See [https://docs.python.org/3/whatsnew/3.0.html] for more details.\n",
    "            print b,\"^(\",m*pow(2,k),\") = \",s,\" and \",s,\"^2 = \",ss,\" modulo \",n\n",
    "            print \"This violates ROO.\"\n",
    "        s = ss\n",
    "        k += 1\n",
    "    \n",
    "    # Step four:  if no ROO violations, check for FLT violation.\n",
    "    if looks_prime:\n",
    "        if s != 1:\n",
    "            print b,\"^\",m*pow(2,k),\" is not congruent to 1, modulo \",n\n",
    "            print \"This violates Fermat's Little Theorem\"\n",
    "            looks_prime = False\n",
    "    \n",
    "    if looks_prime:\n",
    "        print n,\" might be prime.\"\n",
    "    else:\n",
    "        print n,\" is definitely not prime.\"\n",
    "    return looks_prime\n",
    "             \n",
    "        "
   ]
  },
  {
   "cell_type": "code",
   "execution_count": null,
   "metadata": {
    "collapsed": false
   },
   "outputs": [],
   "source": [
    "strong_witness(2,561)"
   ]
  },
  {
   "cell_type": "code",
   "execution_count": null,
   "metadata": {
    "collapsed": false
   },
   "outputs": [],
   "source": [
    "strong_witness(3,340561)"
   ]
  },
  {
   "cell_type": "markdown",
   "metadata": {},
   "source": [
    "Let's try the Miller-Rabin test on some large random numbers.  First, import the random package."
   ]
  },
  {
   "cell_type": "code",
   "execution_count": null,
   "metadata": {
    "collapsed": true
   },
   "outputs": [],
   "source": [
    "from random import *"
   ]
  },
  {
   "cell_type": "code",
   "execution_count": null,
   "metadata": {
    "collapsed": false
   },
   "outputs": [],
   "source": [
    "p = randint(pow(10,100), pow(10,101)) # randint(x,y) chooses a random integer between x and y."
   ]
  },
  {
   "cell_type": "code",
   "execution_count": null,
   "metadata": {
    "collapsed": false
   },
   "outputs": [],
   "source": [
    "strong_witness(2,p) # Is this randomly chosen integer prime?"
   ]
  },
  {
   "cell_type": "markdown",
   "metadata": {},
   "source": [
    "The following function will find a big prime.  Try it with 10 digits or 100 digits.  DO NOT try it with more than 10000 digits or so, or else your computer might hang.\n",
    "\n",
    "Before running it, you may wish to delete all the \"print\" commands from the strong_witness function, above (and shift-enter that cell).  "
   ]
  },
  {
   "cell_type": "code",
   "execution_count": null,
   "metadata": {
    "collapsed": false
   },
   "outputs": [],
   "source": [
    "def find_big_prime(digits, maxtries=100, witnesses=30): # finds a prime number with a given number of digits.\n",
    "    prime_found = False\n",
    "    tries = 0\n",
    "    while (prime_found == False) and (tries < maxtries):\n",
    "        tries += 1\n",
    "        p = randint(10**digits, 10**(digits+1))\n",
    "        is_prime = True\n",
    "        nw = 0 # how many witnesses have we tried?\n",
    "        while is_prime and (nw < witnesses): # We won't try more than 30 witnesses!\n",
    "            nw += 1\n",
    "            w = randint(2,p-1) # Choose a random witness.\n",
    "            is_prime = strong_witness(w,p) # Run the Miller-Rabin test.\n",
    "        if is_prime: # If it passed 20 iterations of Miller-Rabin...\n",
    "            prime_found = True\n",
    "            print p,\"is prime, with chance of error\",(pow(0.25,witnesses)),\"!\"\n",
    "            return p\n",
    "    print \"I tried and tried but didn't find a prime.\"\n",
    "    return None\n"
   ]
  },
  {
   "cell_type": "code",
   "execution_count": null,
   "metadata": {
    "collapsed": false,
    "scrolled": false
   },
   "outputs": [],
   "source": [
    "find_big_prime(10)"
   ]
  },
  {
   "cell_type": "code",
   "execution_count": null,
   "metadata": {
    "collapsed": true
   },
   "outputs": [],
   "source": []
  }
 ],
 "metadata": {
  "anaconda-cloud": {},
  "kernelspec": {
   "display_name": "Python 2",
   "language": "python",
   "name": "python2"
  },
  "language_info": {
   "codemirror_mode": {
    "name": "ipython",
    "version": 2
   },
   "file_extension": ".py",
   "mimetype": "text/x-python",
   "name": "python",
   "nbconvert_exporter": "python",
   "pygments_lexer": "ipython2",
   "version": "2.7.11"
  }
 },
 "nbformat": 4,
 "nbformat_minor": 0
}
